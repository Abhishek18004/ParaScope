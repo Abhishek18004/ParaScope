{
 "cells": [
  {
   "cell_type": "code",
   "execution_count": 18,
   "id": "0c5b8dba",
   "metadata": {},
   "outputs": [],
   "source": [
    "import importlib\n",
    "import import_ipynb\n",
    "\n",
    "from PIL import Image"
   ]
  },
  {
   "cell_type": "code",
   "execution_count": 19,
   "id": "19b2e151",
   "metadata": {},
   "outputs": [],
   "source": [
    "import os\n",
    "import sys"
   ]
  },
  {
   "cell_type": "code",
   "execution_count": 20,
   "id": "3ca06445",
   "metadata": {},
   "outputs": [],
   "source": [
    "import input.image_ocr as image_ocr\n",
    "importlib.reload(image_ocr)\n",
    "from input.image_ocr import preprocess_image, extract_text_from_image, clean_ocr_text"
   ]
  },
  {
   "cell_type": "code",
   "execution_count": 21,
   "id": "f405485f",
   "metadata": {},
   "outputs": [],
   "source": [
    "# Load image\n",
    "image_path = r\"C:\\Users\\HP\\Documents\\Projects\\ParaScope\\academic_summarizer\\data\\scanned_notes_1.jpeg\"  \n",
    "preprocessed = preprocess_image(image_path)"
   ]
  },
  {
   "cell_type": "code",
   "execution_count": 22,
   "id": "15f73bc6",
   "metadata": {},
   "outputs": [
    {
     "name": "stdout",
     "output_type": "stream",
     "text": [
      "=== OCR Raw Output ===\n",
      "Jext-to-Handwriting is a revolutionary tool that converts typed text into realistic, hand-drawn handwriting.  It offers a variety of handwriting styles, customization options (font size, line spacing, colors), and supports complex features such as mathematical equations, tables, and advanced drawings.  The tool is designed for ease of use on any device, generating high-quality images or PDFs suitable for sharing or printing.  Its fast processing capabilities and unrestricted access to premium features have led to high user ratings.  The tool adds a creative, human touch to digital content.\n",
      "\n"
     ]
    }
   ],
   "source": [
    "# OCR\n",
    "ocr_result = extract_text_from_image(preprocessed)\n",
    "print(\"=== OCR Raw Output ===\")\n",
    "print(ocr_result)"
   ]
  },
  {
   "cell_type": "code",
   "execution_count": 23,
   "id": "fbf4da3c",
   "metadata": {},
   "outputs": [
    {
     "name": "stdout",
     "output_type": "stream",
     "text": [
      "\n",
      "=== Cleaned Text ===\n",
      "Jext-to-Handwriting is a revolutionary tool that converts typed text into realistic, hand-drawn handwriting. It offers a variety of handwriting styles, customization options (font size, line spacing, colors), and supports complex features such as mathematical equations, tables, and advanced drawings. The tool is designed for ease of use on any device, generating high-quality images or PDFs suitable for sharing or printing. Its fast processing capabilities and unrestricted access to premium featu\n"
     ]
    }
   ],
   "source": [
    "# Clean text\n",
    "cleaned = clean_ocr_text(ocr_result)\n",
    "print(\"\\n=== Cleaned Text ===\")\n",
    "print(cleaned[:500])  # Show preview"
   ]
  },
  {
   "cell_type": "code",
   "execution_count": 24,
   "id": "498f07ef",
   "metadata": {},
   "outputs": [],
   "source": [
    "import app.ocr_summarizer as ocr_summarizer\n",
    "importlib.reload(ocr_summarizer)\n",
    "from app.ocr_summarizer import summarize_ocr_text"
   ]
  },
  {
   "cell_type": "code",
   "execution_count": null,
   "id": "f53f4212",
   "metadata": {},
   "outputs": [
    {
     "name": "stdout",
     "output_type": "stream",
     "text": [
      "=== Raw OCR Text ===\n",
      "Jext-to-Handwriting is a revolutionary tool that converts typed text into realistic, hand-drawn handwriting.  It offers a variety of handwriting styles, customization options (font size, line spacing, colors), and supports complex features like mathematical equations and advanced drawings.  The tool generates high-quality images or PDFs, is mobile-friendly, and offers unrestricted access to premium features at no cost.  It's highly rated and suitable for various applications, from notes and assi\n",
      "\n",
      "=== Summary ===\n",
      "{'success': True, 'output': \"### Summary\\n\\nText-to-handwriting technology is a novel approach that transforms typed text into authentically appearing handwritten outputs. This tool provides users with a diverse selection of handwriting styles, empowering them to personalize the output through adjustable parameters such as font size, line spacing, and color schemes. It also competently handles complex elements, including mathematical equations (which use symbolic notation to represent mathematical relationships) and intricate drawings. The system generates outputs in common image formats or PDF documents, ensuring compatibility and ease of sharing. Furthermore, its mobile-friendly design allows for convenient use across various devices. A key feature is its open access model, providing users with unrestricted access to premium functionalities without incurring any charges. User ratings suggest a high level of satisfaction, indicating its effectiveness and usability. The tool's versatility lends itself to a wide range of applications, encompassing note-taking, assignment preparation, and the creation of personalized documents and communications. The ability to render mathematical equations and advanced drawings marks a significant advancement in the field, making it suitable for academic and technical writing applications.\\n\\n### Glossary of terms (term: definition)\\n\\n*   **Font Size:** The size of the characters in the generated handwriting.\\n*   **Line Spacing:** The vertical distance between lines of text.\\n*   **Colors:** Refers to the hues or shades of the ink used in the generated handwriting.\\n*   **Image Formats:** Standardized ways of storing digital images (e.g., JPEG, PNG).\\n*   **PDF (Portable Document Format):** A file format used to present and exchange documents reliably, independent of software, hardware, or operating system.\\n*   **Mobile-Friendly:** Designed to be easily accessible and usable on mobile devices such as smartphones and tablets.\\n*   **Text-to-handwriting:** Technology that converts typed text into realistic-looking handwriting.\\n*   **Handwriting Styles:** Different visual appearances of handwriting, mimicking various individual handwriting characteristics.\\n*   **Customization Options:** Adjustable settings allowing users to personalize the appearance of the generated handwriting (e.g., font size, color, line spacing).\\n*   **Mathematical Equations:** Symbolic representations of mathematical relationships, often involving numbers, variables, and operators (e.g., +, -, =, etc.).\"}\n",
      "\n",
      "⚠️ This summary may be low-confidence due to poor text input.\n"
     ]
    }
   ],
   "source": [
    "# Load and preprocess image\n",
    "image_path = r\"C:\\Users\\HP\\Documents\\Projects\\ParaScope\\academic_summarizer\\data\\scanned_notes_1.jpeg\"  \n",
    "preprocessed = preprocess_image(image_path)\n",
    "\n",
    "# OCR extraction\n",
    "ocr_text = extract_text_from_image(preprocessed)\n",
    "print(\"=== Raw OCR Text ===\")\n",
    "print(ocr_text[:500])  # Preview\n",
    "\n",
    "# Summarization\n",
    "result = summarize_ocr_text(ocr_text, model=\"gemini\")\n",
    "print(\"\\n=== Summary ===\")\n",
    "print(result[\"summary\"])\n",
    "\n",
    "if result[\"low_confidence\"]:\n",
    "    print(\"\\n⚠️ This summary may be low-confidence due to poor quality image\")"
   ]
  },
  {
   "cell_type": "code",
   "execution_count": null,
   "id": "8e28d6ca",
   "metadata": {},
   "outputs": [],
   "source": []
  }
 ],
 "metadata": {
  "kernelspec": {
   "display_name": ".venv",
   "language": "python",
   "name": "python3"
  },
  "language_info": {
   "codemirror_mode": {
    "name": "ipython",
    "version": 3
   },
   "file_extension": ".py",
   "mimetype": "text/x-python",
   "name": "python",
   "nbconvert_exporter": "python",
   "pygments_lexer": "ipython3",
   "version": "3.11.9"
  }
 },
 "nbformat": 4,
 "nbformat_minor": 5
}
